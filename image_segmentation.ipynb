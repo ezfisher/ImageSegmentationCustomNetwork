{
 "cells": [
  {
   "cell_type": "code",
   "execution_count": 1,
   "metadata": {},
   "outputs": [
    {
     "name": "stdout",
     "output_type": "stream",
     "text": [
      "cpu\n"
     ]
    }
   ],
   "source": [
    "import numpy as np\n",
    "import os\n",
    "import cv2 as cv\n",
    "from typing import Iterable\n",
    "import matplotlib.pyplot as plt\n",
    "import glob\n",
    "import time\n",
    "\n",
    "import torch\n",
    "import torchvision\n",
    "import torch.nn as nn\n",
    "import torch.optim as optim\n",
    "import torch.nn.functional as F\n",
    "from torch.optim import lr_scheduler\n",
    "import torchvision.transforms as T\n",
    "from torch.utils.data.sampler import SubsetRandomSampler\n",
    "from torch.utils import data\n",
    "from torch.optim.lr_scheduler import StepLR, ReduceLROnPlateau\n",
    "from models import MixtureOfExpertsEncoder, Traditional2dSegmenter\n",
    "from models.utils.util_classes import SplitTensor, AddInQuadrature, DepthSum, ConvWH, ConvDW, ConvDH\n",
    "\n",
    "dev = 'cuda' if torch.cuda.is_available() else 'cpu'\n",
    "device = torch.device(dev)\n",
    "print(device)"
   ]
  },
  {
   "cell_type": "code",
   "execution_count": 2,
   "metadata": {},
   "outputs": [],
   "source": [
    "class FftLayer(nn.Module):\n",
    "    def __init__(self, kernel_size, stride, padding, num_orders=4, inverse=False):\n",
    "        super().__init__()\n",
    "        self.kernel_size = kernel_size\n",
    "        self.stride = stride\n",
    "        self.padding = padding\n",
    "        self.num_orders = num_orders"
   ]
  },
  {
   "cell_type": "code",
   "execution_count": 3,
   "metadata": {},
   "outputs": [
    {
     "name": "stdout",
     "output_type": "stream",
     "text": [
      "['/home/shiva/data/ImageSegmentationFloodZones/Image/1003.jpg', '/home/shiva/data/ImageSegmentationFloodZones/Image/3061.jpg', '/home/shiva/data/ImageSegmentationFloodZones/Image/1068.jpg', '/home/shiva/data/ImageSegmentationFloodZones/Image/3006.jpg', '/home/shiva/data/ImageSegmentationFloodZones/Image/3032.jpg', '/home/shiva/data/ImageSegmentationFloodZones/Image/3077.jpg', '/home/shiva/data/ImageSegmentationFloodZones/Image/3016.jpg', '/home/shiva/data/ImageSegmentationFloodZones/Image/1075.jpg', '/home/shiva/data/ImageSegmentationFloodZones/Image/3079.jpg', '/home/shiva/data/ImageSegmentationFloodZones/Image/28.jpg', '/home/shiva/data/ImageSegmentationFloodZones/Image/3098.jpg', '/home/shiva/data/ImageSegmentationFloodZones/Image/1067.jpg', '/home/shiva/data/ImageSegmentationFloodZones/Image/3000.jpg', '/home/shiva/data/ImageSegmentationFloodZones/Image/3010.jpg', '/home/shiva/data/ImageSegmentationFloodZones/Image/3025.jpg', '/home/shiva/data/ImageSegmentationFloodZones/Image/1020.jpg', '/home/shiva/data/ImageSegmentationFloodZones/Image/1073.jpg', '/home/shiva/data/ImageSegmentationFloodZones/Image/1019.jpg', '/home/shiva/data/ImageSegmentationFloodZones/Image/2015.jpg', '/home/shiva/data/ImageSegmentationFloodZones/Image/23.jpg', '/home/shiva/data/ImageSegmentationFloodZones/Image/3044.jpg', '/home/shiva/data/ImageSegmentationFloodZones/Image/2026.jpg', '/home/shiva/data/ImageSegmentationFloodZones/Image/2017.jpg', '/home/shiva/data/ImageSegmentationFloodZones/Image/1058.jpg', '/home/shiva/data/ImageSegmentationFloodZones/Image/20.jpg', '/home/shiva/data/ImageSegmentationFloodZones/Image/3054.jpg', '/home/shiva/data/ImageSegmentationFloodZones/Image/3042.jpg', '/home/shiva/data/ImageSegmentationFloodZones/Image/2029.jpg', '/home/shiva/data/ImageSegmentationFloodZones/Image/3027.jpg', '/home/shiva/data/ImageSegmentationFloodZones/Image/3021.jpg', '/home/shiva/data/ImageSegmentationFloodZones/Image/1081.jpg', '/home/shiva/data/ImageSegmentationFloodZones/Image/1011.jpg', '/home/shiva/data/ImageSegmentationFloodZones/Image/1079.jpg', '/home/shiva/data/ImageSegmentationFloodZones/Image/1052.jpg', '/home/shiva/data/ImageSegmentationFloodZones/Image/3041.jpg', '/home/shiva/data/ImageSegmentationFloodZones/Image/3007.jpg', '/home/shiva/data/ImageSegmentationFloodZones/Image/1013.jpg', '/home/shiva/data/ImageSegmentationFloodZones/Image/3073.jpg', '/home/shiva/data/ImageSegmentationFloodZones/Image/13.jpg', '/home/shiva/data/ImageSegmentationFloodZones/Image/36.jpg', '/home/shiva/data/ImageSegmentationFloodZones/Image/1014.jpg', '/home/shiva/data/ImageSegmentationFloodZones/Image/3009.jpg', '/home/shiva/data/ImageSegmentationFloodZones/Image/3052.jpg', '/home/shiva/data/ImageSegmentationFloodZones/Image/3063.jpg', '/home/shiva/data/ImageSegmentationFloodZones/Image/3092.jpg', '/home/shiva/data/ImageSegmentationFloodZones/Image/3076.jpg', '/home/shiva/data/ImageSegmentationFloodZones/Image/3069.jpg', '/home/shiva/data/ImageSegmentationFloodZones/Image/2034.jpg', '/home/shiva/data/ImageSegmentationFloodZones/Image/2041.jpg', '/home/shiva/data/ImageSegmentationFloodZones/Image/3057.jpg', '/home/shiva/data/ImageSegmentationFloodZones/Image/3056.jpg', '/home/shiva/data/ImageSegmentationFloodZones/Image/1074.jpg', '/home/shiva/data/ImageSegmentationFloodZones/Image/46.jpg', '/home/shiva/data/ImageSegmentationFloodZones/Image/2028.jpg', '/home/shiva/data/ImageSegmentationFloodZones/Image/1026.jpg', '/home/shiva/data/ImageSegmentationFloodZones/Image/3083.jpg', '/home/shiva/data/ImageSegmentationFloodZones/Image/0.jpg', '/home/shiva/data/ImageSegmentationFloodZones/Image/2018.jpg', '/home/shiva/data/ImageSegmentationFloodZones/Image/2043.jpg', '/home/shiva/data/ImageSegmentationFloodZones/Image/3015.jpg', '/home/shiva/data/ImageSegmentationFloodZones/Image/2009.jpg', '/home/shiva/data/ImageSegmentationFloodZones/Image/1036.jpg', '/home/shiva/data/ImageSegmentationFloodZones/Image/3046.jpg', '/home/shiva/data/ImageSegmentationFloodZones/Image/2050.jpg', '/home/shiva/data/ImageSegmentationFloodZones/Image/14.jpg', '/home/shiva/data/ImageSegmentationFloodZones/Image/2003.jpg', '/home/shiva/data/ImageSegmentationFloodZones/Image/3031.jpg', '/home/shiva/data/ImageSegmentationFloodZones/Image/1017.jpg', '/home/shiva/data/ImageSegmentationFloodZones/Image/2023.jpg', '/home/shiva/data/ImageSegmentationFloodZones/Image/2045.jpg', '/home/shiva/data/ImageSegmentationFloodZones/Image/1084.jpg', '/home/shiva/data/ImageSegmentationFloodZones/Image/47.jpg', '/home/shiva/data/ImageSegmentationFloodZones/Image/1078.jpg', '/home/shiva/data/ImageSegmentationFloodZones/Image/1009.jpg', '/home/shiva/data/ImageSegmentationFloodZones/Image/24.jpg', '/home/shiva/data/ImageSegmentationFloodZones/Image/2032.jpg', '/home/shiva/data/ImageSegmentationFloodZones/Image/1034.jpg', '/home/shiva/data/ImageSegmentationFloodZones/Image/1060.jpg', '/home/shiva/data/ImageSegmentationFloodZones/Image/3078.jpg', '/home/shiva/data/ImageSegmentationFloodZones/Image/3038.jpg', '/home/shiva/data/ImageSegmentationFloodZones/Image/1010.jpg', '/home/shiva/data/ImageSegmentationFloodZones/Image/3008.jpg', '/home/shiva/data/ImageSegmentationFloodZones/Image/1031.jpg', '/home/shiva/data/ImageSegmentationFloodZones/Image/3004.jpg', '/home/shiva/data/ImageSegmentationFloodZones/Image/3040.jpg', '/home/shiva/data/ImageSegmentationFloodZones/Image/1053.jpg', '/home/shiva/data/ImageSegmentationFloodZones/Image/10.jpg', '/home/shiva/data/ImageSegmentationFloodZones/Image/8.jpg', '/home/shiva/data/ImageSegmentationFloodZones/Image/1085.jpg', '/home/shiva/data/ImageSegmentationFloodZones/Image/1002.jpg', '/home/shiva/data/ImageSegmentationFloodZones/Image/2002.jpg', '/home/shiva/data/ImageSegmentationFloodZones/Image/3064.jpg', '/home/shiva/data/ImageSegmentationFloodZones/Image/2010.jpg', '/home/shiva/data/ImageSegmentationFloodZones/Image/2005.jpg', '/home/shiva/data/ImageSegmentationFloodZones/Image/2001.jpg', '/home/shiva/data/ImageSegmentationFloodZones/Image/2039.jpg', '/home/shiva/data/ImageSegmentationFloodZones/Image/1082.jpg', '/home/shiva/data/ImageSegmentationFloodZones/Image/3074.jpg', '/home/shiva/data/ImageSegmentationFloodZones/Image/1032.jpg', '/home/shiva/data/ImageSegmentationFloodZones/Image/1007.jpg', '/home/shiva/data/ImageSegmentationFloodZones/Image/3094.jpg', '/home/shiva/data/ImageSegmentationFloodZones/Image/3062.jpg', '/home/shiva/data/ImageSegmentationFloodZones/Image/6.jpg', '/home/shiva/data/ImageSegmentationFloodZones/Image/1029.jpg', '/home/shiva/data/ImageSegmentationFloodZones/Image/2024.jpg', '/home/shiva/data/ImageSegmentationFloodZones/Image/27.jpg', '/home/shiva/data/ImageSegmentationFloodZones/Image/3084.jpg', '/home/shiva/data/ImageSegmentationFloodZones/Image/1004.jpg', '/home/shiva/data/ImageSegmentationFloodZones/Image/22.jpg', '/home/shiva/data/ImageSegmentationFloodZones/Image/33.jpg', '/home/shiva/data/ImageSegmentationFloodZones/Image/2040.jpg', '/home/shiva/data/ImageSegmentationFloodZones/Image/3037.jpg', '/home/shiva/data/ImageSegmentationFloodZones/Image/1076.jpg', '/home/shiva/data/ImageSegmentationFloodZones/Image/1071.jpg', '/home/shiva/data/ImageSegmentationFloodZones/Image/3012.jpg', '/home/shiva/data/ImageSegmentationFloodZones/Image/3067.jpg', '/home/shiva/data/ImageSegmentationFloodZones/Image/3.jpg', '/home/shiva/data/ImageSegmentationFloodZones/Image/15.jpg', '/home/shiva/data/ImageSegmentationFloodZones/Image/3059.jpg', '/home/shiva/data/ImageSegmentationFloodZones/Image/3014.jpg', '/home/shiva/data/ImageSegmentationFloodZones/Image/3070.jpg', '/home/shiva/data/ImageSegmentationFloodZones/Image/9.jpg', '/home/shiva/data/ImageSegmentationFloodZones/Image/1077.jpg', '/home/shiva/data/ImageSegmentationFloodZones/Image/45.jpg', '/home/shiva/data/ImageSegmentationFloodZones/Image/3034.jpg', '/home/shiva/data/ImageSegmentationFloodZones/Image/16.jpg', '/home/shiva/data/ImageSegmentationFloodZones/Image/3049.jpg', '/home/shiva/data/ImageSegmentationFloodZones/Image/1037.jpg', '/home/shiva/data/ImageSegmentationFloodZones/Image/2047.jpg', '/home/shiva/data/ImageSegmentationFloodZones/Image/7.jpg', '/home/shiva/data/ImageSegmentationFloodZones/Image/35.jpg', '/home/shiva/data/ImageSegmentationFloodZones/Image/3086.jpg', '/home/shiva/data/ImageSegmentationFloodZones/Image/3001.jpg', '/home/shiva/data/ImageSegmentationFloodZones/Image/2012.jpg', '/home/shiva/data/ImageSegmentationFloodZones/Image/2020.jpg', '/home/shiva/data/ImageSegmentationFloodZones/Image/3035.jpg', '/home/shiva/data/ImageSegmentationFloodZones/Image/1057.jpg', '/home/shiva/data/ImageSegmentationFloodZones/Image/1006.jpg', '/home/shiva/data/ImageSegmentationFloodZones/Image/1080.jpg', '/home/shiva/data/ImageSegmentationFloodZones/Image/3033.jpg', '/home/shiva/data/ImageSegmentationFloodZones/Image/2053.jpg', '/home/shiva/data/ImageSegmentationFloodZones/Image/1049.jpg', '/home/shiva/data/ImageSegmentationFloodZones/Image/1040.jpg', '/home/shiva/data/ImageSegmentationFloodZones/Image/3088.jpg', '/home/shiva/data/ImageSegmentationFloodZones/Image/19.jpg', '/home/shiva/data/ImageSegmentationFloodZones/Image/11.jpg', '/home/shiva/data/ImageSegmentationFloodZones/Image/1043.jpg', '/home/shiva/data/ImageSegmentationFloodZones/Image/3043.jpg', '/home/shiva/data/ImageSegmentationFloodZones/Image/1024.jpg', '/home/shiva/data/ImageSegmentationFloodZones/Image/3096.jpg', '/home/shiva/data/ImageSegmentationFloodZones/Image/1064.jpg', '/home/shiva/data/ImageSegmentationFloodZones/Image/2035.jpg', '/home/shiva/data/ImageSegmentationFloodZones/Image/2013.jpg', '/home/shiva/data/ImageSegmentationFloodZones/Image/1016.jpg', '/home/shiva/data/ImageSegmentationFloodZones/Image/48.jpg', '/home/shiva/data/ImageSegmentationFloodZones/Image/2027.jpg', '/home/shiva/data/ImageSegmentationFloodZones/Image/1000.jpg', '/home/shiva/data/ImageSegmentationFloodZones/Image/2036.jpg', '/home/shiva/data/ImageSegmentationFloodZones/Image/1072.jpg', '/home/shiva/data/ImageSegmentationFloodZones/Image/1061.jpg', '/home/shiva/data/ImageSegmentationFloodZones/Image/25.jpg', '/home/shiva/data/ImageSegmentationFloodZones/Image/2052.jpg', '/home/shiva/data/ImageSegmentationFloodZones/Image/1046.jpg', '/home/shiva/data/ImageSegmentationFloodZones/Image/1059.jpg', '/home/shiva/data/ImageSegmentationFloodZones/Image/3058.jpg', '/home/shiva/data/ImageSegmentationFloodZones/Image/3050.jpg', '/home/shiva/data/ImageSegmentationFloodZones/Image/3026.jpg', '/home/shiva/data/ImageSegmentationFloodZones/Image/1025.jpg', '/home/shiva/data/ImageSegmentationFloodZones/Image/3018.jpg', '/home/shiva/data/ImageSegmentationFloodZones/Image/1054.jpg', '/home/shiva/data/ImageSegmentationFloodZones/Image/3089.jpg', '/home/shiva/data/ImageSegmentationFloodZones/Image/3060.jpg', '/home/shiva/data/ImageSegmentationFloodZones/Image/34.jpg', '/home/shiva/data/ImageSegmentationFloodZones/Image/1044.jpg', '/home/shiva/data/ImageSegmentationFloodZones/Image/49.jpg', '/home/shiva/data/ImageSegmentationFloodZones/Image/1008.jpg', '/home/shiva/data/ImageSegmentationFloodZones/Image/1028.jpg', '/home/shiva/data/ImageSegmentationFloodZones/Image/1015.jpg', '/home/shiva/data/ImageSegmentationFloodZones/Image/3085.jpg', '/home/shiva/data/ImageSegmentationFloodZones/Image/2044.jpg', '/home/shiva/data/ImageSegmentationFloodZones/Image/1065.jpg', '/home/shiva/data/ImageSegmentationFloodZones/Image/3023.jpg', '/home/shiva/data/ImageSegmentationFloodZones/Image/1083.jpg', '/home/shiva/data/ImageSegmentationFloodZones/Image/3013.jpg', '/home/shiva/data/ImageSegmentationFloodZones/Image/2016.jpg', '/home/shiva/data/ImageSegmentationFloodZones/Image/3045.jpg', '/home/shiva/data/ImageSegmentationFloodZones/Image/3028.jpg', '/home/shiva/data/ImageSegmentationFloodZones/Image/40.jpg', '/home/shiva/data/ImageSegmentationFloodZones/Image/3003.jpg', '/home/shiva/data/ImageSegmentationFloodZones/Image/37.jpg', '/home/shiva/data/ImageSegmentationFloodZones/Image/3081.jpg', '/home/shiva/data/ImageSegmentationFloodZones/Image/1047.jpg', '/home/shiva/data/ImageSegmentationFloodZones/Image/39.jpg', '/home/shiva/data/ImageSegmentationFloodZones/Image/2038.jpg', '/home/shiva/data/ImageSegmentationFloodZones/Image/3087.jpg', '/home/shiva/data/ImageSegmentationFloodZones/Image/42.jpg', '/home/shiva/data/ImageSegmentationFloodZones/Image/2046.jpg', '/home/shiva/data/ImageSegmentationFloodZones/Image/3075.jpg', '/home/shiva/data/ImageSegmentationFloodZones/Image/2031.jpg', '/home/shiva/data/ImageSegmentationFloodZones/Image/26.jpg', '/home/shiva/data/ImageSegmentationFloodZones/Image/1023.jpg', '/home/shiva/data/ImageSegmentationFloodZones/Image/1086.jpg', '/home/shiva/data/ImageSegmentationFloodZones/Image/1050.jpg', '/home/shiva/data/ImageSegmentationFloodZones/Image/1062.jpg', '/home/shiva/data/ImageSegmentationFloodZones/Image/3053.jpg', '/home/shiva/data/ImageSegmentationFloodZones/Image/3022.jpg', '/home/shiva/data/ImageSegmentationFloodZones/Image/2051.jpg', '/home/shiva/data/ImageSegmentationFloodZones/Image/2030.jpg', '/home/shiva/data/ImageSegmentationFloodZones/Image/1042.jpg', '/home/shiva/data/ImageSegmentationFloodZones/Image/3082.jpg', '/home/shiva/data/ImageSegmentationFloodZones/Image/3055.jpg', '/home/shiva/data/ImageSegmentationFloodZones/Image/1.jpg', '/home/shiva/data/ImageSegmentationFloodZones/Image/3091.jpg', '/home/shiva/data/ImageSegmentationFloodZones/Image/2042.jpg', '/home/shiva/data/ImageSegmentationFloodZones/Image/3048.jpg', '/home/shiva/data/ImageSegmentationFloodZones/Image/3011.jpg', '/home/shiva/data/ImageSegmentationFloodZones/Image/1022.jpg', '/home/shiva/data/ImageSegmentationFloodZones/Image/3020.jpg', '/home/shiva/data/ImageSegmentationFloodZones/Image/44.jpg', '/home/shiva/data/ImageSegmentationFloodZones/Image/2004.jpg', '/home/shiva/data/ImageSegmentationFloodZones/Image/2049.jpg', '/home/shiva/data/ImageSegmentationFloodZones/Image/3030.jpg', '/home/shiva/data/ImageSegmentationFloodZones/Image/1018.jpg', '/home/shiva/data/ImageSegmentationFloodZones/Image/1066.jpg', '/home/shiva/data/ImageSegmentationFloodZones/Image/3093.jpg', '/home/shiva/data/ImageSegmentationFloodZones/Image/17.jpg', '/home/shiva/data/ImageSegmentationFloodZones/Image/3036.jpg', '/home/shiva/data/ImageSegmentationFloodZones/Image/3019.jpg', '/home/shiva/data/ImageSegmentationFloodZones/Image/2025.jpg', '/home/shiva/data/ImageSegmentationFloodZones/Image/3095.jpg', '/home/shiva/data/ImageSegmentationFloodZones/Image/1045.jpg', '/home/shiva/data/ImageSegmentationFloodZones/Image/1087.jpg', '/home/shiva/data/ImageSegmentationFloodZones/Image/21.jpg', '/home/shiva/data/ImageSegmentationFloodZones/Image/1035.jpg', '/home/shiva/data/ImageSegmentationFloodZones/Image/18.jpg', '/home/shiva/data/ImageSegmentationFloodZones/Image/1005.jpg', '/home/shiva/data/ImageSegmentationFloodZones/Image/2007.jpg', '/home/shiva/data/ImageSegmentationFloodZones/Image/1038.jpg', '/home/shiva/data/ImageSegmentationFloodZones/Image/3017.jpg', '/home/shiva/data/ImageSegmentationFloodZones/Image/31.jpg', '/home/shiva/data/ImageSegmentationFloodZones/Image/2048.jpg', '/home/shiva/data/ImageSegmentationFloodZones/Image/3051.jpg', '/home/shiva/data/ImageSegmentationFloodZones/Image/3005.jpg', '/home/shiva/data/ImageSegmentationFloodZones/Image/3090.jpg', '/home/shiva/data/ImageSegmentationFloodZones/Image/3066.jpg', '/home/shiva/data/ImageSegmentationFloodZones/Image/2033.jpg', '/home/shiva/data/ImageSegmentationFloodZones/Image/4.jpg', '/home/shiva/data/ImageSegmentationFloodZones/Image/3071.jpg', '/home/shiva/data/ImageSegmentationFloodZones/Image/1056.jpg', '/home/shiva/data/ImageSegmentationFloodZones/Image/3072.jpg', '/home/shiva/data/ImageSegmentationFloodZones/Image/1033.jpg', '/home/shiva/data/ImageSegmentationFloodZones/Image/2.jpg', '/home/shiva/data/ImageSegmentationFloodZones/Image/1041.jpg', '/home/shiva/data/ImageSegmentationFloodZones/Image/3080.jpg', '/home/shiva/data/ImageSegmentationFloodZones/Image/5.jpg', '/home/shiva/data/ImageSegmentationFloodZones/Image/1021.jpg', '/home/shiva/data/ImageSegmentationFloodZones/Image/1001.jpg', '/home/shiva/data/ImageSegmentationFloodZones/Image/1039.jpg', '/home/shiva/data/ImageSegmentationFloodZones/Image/1012.jpg', '/home/shiva/data/ImageSegmentationFloodZones/Image/3068.jpg', '/home/shiva/data/ImageSegmentationFloodZones/Image/12.jpg', '/home/shiva/data/ImageSegmentationFloodZones/Image/2022.jpg', '/home/shiva/data/ImageSegmentationFloodZones/Image/3024.jpg', '/home/shiva/data/ImageSegmentationFloodZones/Image/2014.jpg', '/home/shiva/data/ImageSegmentationFloodZones/Image/2021.jpg', '/home/shiva/data/ImageSegmentationFloodZones/Image/3097.jpg', '/home/shiva/data/ImageSegmentationFloodZones/Image/2006.jpg', '/home/shiva/data/ImageSegmentationFloodZones/Image/2011.jpg', '/home/shiva/data/ImageSegmentationFloodZones/Image/38.jpg', '/home/shiva/data/ImageSegmentationFloodZones/Image/1027.jpg', '/home/shiva/data/ImageSegmentationFloodZones/Image/3002.jpg', '/home/shiva/data/ImageSegmentationFloodZones/Image/2019.jpg', '/home/shiva/data/ImageSegmentationFloodZones/Image/1030.jpg', '/home/shiva/data/ImageSegmentationFloodZones/Image/1051.jpg', '/home/shiva/data/ImageSegmentationFloodZones/Image/2008.jpg', '/home/shiva/data/ImageSegmentationFloodZones/Image/1048.jpg', '/home/shiva/data/ImageSegmentationFloodZones/Image/3039.jpg', '/home/shiva/data/ImageSegmentationFloodZones/Image/2037.jpg', '/home/shiva/data/ImageSegmentationFloodZones/Image/1055.jpg', '/home/shiva/data/ImageSegmentationFloodZones/Image/43.jpg', '/home/shiva/data/ImageSegmentationFloodZones/Image/29.jpg', '/home/shiva/data/ImageSegmentationFloodZones/Image/41.jpg', '/home/shiva/data/ImageSegmentationFloodZones/Image/32.jpg', '/home/shiva/data/ImageSegmentationFloodZones/Image/1063.jpg', '/home/shiva/data/ImageSegmentationFloodZones/Image/3029.jpg', '/home/shiva/data/ImageSegmentationFloodZones/Image/3047.jpg', '/home/shiva/data/ImageSegmentationFloodZones/Image/1069.jpg', '/home/shiva/data/ImageSegmentationFloodZones/Image/3065.jpg', '/home/shiva/data/ImageSegmentationFloodZones/Image/30.jpg', '/home/shiva/data/ImageSegmentationFloodZones/Image/1070.jpg']\n",
      "['/home/shiva/data/ImageSegmentationFloodZones/Mask/2004.png', '/home/shiva/data/ImageSegmentationFloodZones/Mask/1023.png', '/home/shiva/data/ImageSegmentationFloodZones/Mask/37.png', '/home/shiva/data/ImageSegmentationFloodZones/Mask/3031.png', '/home/shiva/data/ImageSegmentationFloodZones/Mask/2017.png', '/home/shiva/data/ImageSegmentationFloodZones/Mask/1077.png', '/home/shiva/data/ImageSegmentationFloodZones/Mask/42.png', '/home/shiva/data/ImageSegmentationFloodZones/Mask/2020.png', '/home/shiva/data/ImageSegmentationFloodZones/Mask/29.png', '/home/shiva/data/ImageSegmentationFloodZones/Mask/3018.png', '/home/shiva/data/ImageSegmentationFloodZones/Mask/33.png', '/home/shiva/data/ImageSegmentationFloodZones/Mask/46.png', '/home/shiva/data/ImageSegmentationFloodZones/Mask/3053.png', '/home/shiva/data/ImageSegmentationFloodZones/Mask/6.png', '/home/shiva/data/ImageSegmentationFloodZones/Mask/38.png', '/home/shiva/data/ImageSegmentationFloodZones/Mask/2009.png', '/home/shiva/data/ImageSegmentationFloodZones/Mask/22.png', '/home/shiva/data/ImageSegmentationFloodZones/Mask/2008.png', '/home/shiva/data/ImageSegmentationFloodZones/Mask/1041.png', '/home/shiva/data/ImageSegmentationFloodZones/Mask/2042.png', '/home/shiva/data/ImageSegmentationFloodZones/Mask/3003.png', '/home/shiva/data/ImageSegmentationFloodZones/Mask/12.png', '/home/shiva/data/ImageSegmentationFloodZones/Mask/3093.png', '/home/shiva/data/ImageSegmentationFloodZones/Mask/1055.png', '/home/shiva/data/ImageSegmentationFloodZones/Mask/3022.png', '/home/shiva/data/ImageSegmentationFloodZones/Mask/3044.png', '/home/shiva/data/ImageSegmentationFloodZones/Mask/2015.png', '/home/shiva/data/ImageSegmentationFloodZones/Mask/3020.png', '/home/shiva/data/ImageSegmentationFloodZones/Mask/2011.png', '/home/shiva/data/ImageSegmentationFloodZones/Mask/1074.png', '/home/shiva/data/ImageSegmentationFloodZones/Mask/1072.png', '/home/shiva/data/ImageSegmentationFloodZones/Mask/2044.png', '/home/shiva/data/ImageSegmentationFloodZones/Mask/1009.png', '/home/shiva/data/ImageSegmentationFloodZones/Mask/1087.png', '/home/shiva/data/ImageSegmentationFloodZones/Mask/3095.png', '/home/shiva/data/ImageSegmentationFloodZones/Mask/3013.png', '/home/shiva/data/ImageSegmentationFloodZones/Mask/3081.png', '/home/shiva/data/ImageSegmentationFloodZones/Mask/3032.png', '/home/shiva/data/ImageSegmentationFloodZones/Mask/1048.png', '/home/shiva/data/ImageSegmentationFloodZones/Mask/3016.png', '/home/shiva/data/ImageSegmentationFloodZones/Mask/1.png', '/home/shiva/data/ImageSegmentationFloodZones/Mask/1017.png', '/home/shiva/data/ImageSegmentationFloodZones/Mask/17.png', '/home/shiva/data/ImageSegmentationFloodZones/Mask/3083.png', '/home/shiva/data/ImageSegmentationFloodZones/Mask/3091.png', '/home/shiva/data/ImageSegmentationFloodZones/Mask/40.png', '/home/shiva/data/ImageSegmentationFloodZones/Mask/3080.png', '/home/shiva/data/ImageSegmentationFloodZones/Mask/3084.png', '/home/shiva/data/ImageSegmentationFloodZones/Mask/1039.png', '/home/shiva/data/ImageSegmentationFloodZones/Mask/0.png', '/home/shiva/data/ImageSegmentationFloodZones/Mask/3070.png', '/home/shiva/data/ImageSegmentationFloodZones/Mask/1079.png', '/home/shiva/data/ImageSegmentationFloodZones/Mask/16.png', '/home/shiva/data/ImageSegmentationFloodZones/Mask/1038.png', '/home/shiva/data/ImageSegmentationFloodZones/Mask/2019.png', '/home/shiva/data/ImageSegmentationFloodZones/Mask/2023.png', '/home/shiva/data/ImageSegmentationFloodZones/Mask/1040.png', '/home/shiva/data/ImageSegmentationFloodZones/Mask/1085.png', '/home/shiva/data/ImageSegmentationFloodZones/Mask/2001.png', '/home/shiva/data/ImageSegmentationFloodZones/Mask/3025.png', '/home/shiva/data/ImageSegmentationFloodZones/Mask/3068.png', '/home/shiva/data/ImageSegmentationFloodZones/Mask/2052.png', '/home/shiva/data/ImageSegmentationFloodZones/Mask/43.png', '/home/shiva/data/ImageSegmentationFloodZones/Mask/1014.png', '/home/shiva/data/ImageSegmentationFloodZones/Mask/3047.png', '/home/shiva/data/ImageSegmentationFloodZones/Mask/47.png', '/home/shiva/data/ImageSegmentationFloodZones/Mask/35.png', '/home/shiva/data/ImageSegmentationFloodZones/Mask/10.png', '/home/shiva/data/ImageSegmentationFloodZones/Mask/2026.png', '/home/shiva/data/ImageSegmentationFloodZones/Mask/1036.png', '/home/shiva/data/ImageSegmentationFloodZones/Mask/3067.png', '/home/shiva/data/ImageSegmentationFloodZones/Mask/2047.png', '/home/shiva/data/ImageSegmentationFloodZones/Mask/39.png', '/home/shiva/data/ImageSegmentationFloodZones/Mask/1020.png', '/home/shiva/data/ImageSegmentationFloodZones/Mask/45.png', '/home/shiva/data/ImageSegmentationFloodZones/Mask/3074.png', '/home/shiva/data/ImageSegmentationFloodZones/Mask/2018.png', '/home/shiva/data/ImageSegmentationFloodZones/Mask/1070.png', '/home/shiva/data/ImageSegmentationFloodZones/Mask/3051.png', '/home/shiva/data/ImageSegmentationFloodZones/Mask/1000.png', '/home/shiva/data/ImageSegmentationFloodZones/Mask/2030.png', '/home/shiva/data/ImageSegmentationFloodZones/Mask/18.png', '/home/shiva/data/ImageSegmentationFloodZones/Mask/2046.png', '/home/shiva/data/ImageSegmentationFloodZones/Mask/48.png', '/home/shiva/data/ImageSegmentationFloodZones/Mask/1044.png', '/home/shiva/data/ImageSegmentationFloodZones/Mask/1083.png', '/home/shiva/data/ImageSegmentationFloodZones/Mask/3005.png', '/home/shiva/data/ImageSegmentationFloodZones/Mask/2034.png', '/home/shiva/data/ImageSegmentationFloodZones/Mask/2022.png', '/home/shiva/data/ImageSegmentationFloodZones/Mask/2006.png', '/home/shiva/data/ImageSegmentationFloodZones/Mask/3078.png', '/home/shiva/data/ImageSegmentationFloodZones/Mask/14.png', '/home/shiva/data/ImageSegmentationFloodZones/Mask/1062.png', '/home/shiva/data/ImageSegmentationFloodZones/Mask/3048.png', '/home/shiva/data/ImageSegmentationFloodZones/Mask/3056.png', '/home/shiva/data/ImageSegmentationFloodZones/Mask/36.png', '/home/shiva/data/ImageSegmentationFloodZones/Mask/19.png', '/home/shiva/data/ImageSegmentationFloodZones/Mask/4.png', '/home/shiva/data/ImageSegmentationFloodZones/Mask/30.png', '/home/shiva/data/ImageSegmentationFloodZones/Mask/2033.png', '/home/shiva/data/ImageSegmentationFloodZones/Mask/3008.png', '/home/shiva/data/ImageSegmentationFloodZones/Mask/9.png', '/home/shiva/data/ImageSegmentationFloodZones/Mask/3040.png', '/home/shiva/data/ImageSegmentationFloodZones/Mask/1067.png', '/home/shiva/data/ImageSegmentationFloodZones/Mask/1024.png', '/home/shiva/data/ImageSegmentationFloodZones/Mask/3042.png', '/home/shiva/data/ImageSegmentationFloodZones/Mask/1011.png', '/home/shiva/data/ImageSegmentationFloodZones/Mask/27.png', '/home/shiva/data/ImageSegmentationFloodZones/Mask/1050.png', '/home/shiva/data/ImageSegmentationFloodZones/Mask/3098.png', '/home/shiva/data/ImageSegmentationFloodZones/Mask/1043.png', '/home/shiva/data/ImageSegmentationFloodZones/Mask/1018.png', '/home/shiva/data/ImageSegmentationFloodZones/Mask/34.png', '/home/shiva/data/ImageSegmentationFloodZones/Mask/2035.png', '/home/shiva/data/ImageSegmentationFloodZones/Mask/2005.png', '/home/shiva/data/ImageSegmentationFloodZones/Mask/3073.png', '/home/shiva/data/ImageSegmentationFloodZones/Mask/1028.png', '/home/shiva/data/ImageSegmentationFloodZones/Mask/3023.png', '/home/shiva/data/ImageSegmentationFloodZones/Mask/2041.png', '/home/shiva/data/ImageSegmentationFloodZones/Mask/3012.png', '/home/shiva/data/ImageSegmentationFloodZones/Mask/2053.png', '/home/shiva/data/ImageSegmentationFloodZones/Mask/1007.png', '/home/shiva/data/ImageSegmentationFloodZones/Mask/3035.png', '/home/shiva/data/ImageSegmentationFloodZones/Mask/2043.png', '/home/shiva/data/ImageSegmentationFloodZones/Mask/2049.png', '/home/shiva/data/ImageSegmentationFloodZones/Mask/1064.png', '/home/shiva/data/ImageSegmentationFloodZones/Mask/1042.png', '/home/shiva/data/ImageSegmentationFloodZones/Mask/3001.png', '/home/shiva/data/ImageSegmentationFloodZones/Mask/28.png', '/home/shiva/data/ImageSegmentationFloodZones/Mask/1015.png', '/home/shiva/data/ImageSegmentationFloodZones/Mask/2024.png', '/home/shiva/data/ImageSegmentationFloodZones/Mask/1037.png', '/home/shiva/data/ImageSegmentationFloodZones/Mask/20.png', '/home/shiva/data/ImageSegmentationFloodZones/Mask/3.png', '/home/shiva/data/ImageSegmentationFloodZones/Mask/2025.png', '/home/shiva/data/ImageSegmentationFloodZones/Mask/2012.png', '/home/shiva/data/ImageSegmentationFloodZones/Mask/1046.png', '/home/shiva/data/ImageSegmentationFloodZones/Mask/1057.png', '/home/shiva/data/ImageSegmentationFloodZones/Mask/3066.png', '/home/shiva/data/ImageSegmentationFloodZones/Mask/1008.png', '/home/shiva/data/ImageSegmentationFloodZones/Mask/44.png', '/home/shiva/data/ImageSegmentationFloodZones/Mask/1071.png', '/home/shiva/data/ImageSegmentationFloodZones/Mask/2039.png', '/home/shiva/data/ImageSegmentationFloodZones/Mask/1032.png', '/home/shiva/data/ImageSegmentationFloodZones/Mask/2038.png', '/home/shiva/data/ImageSegmentationFloodZones/Mask/2016.png', '/home/shiva/data/ImageSegmentationFloodZones/Mask/2037.png', '/home/shiva/data/ImageSegmentationFloodZones/Mask/2040.png', '/home/shiva/data/ImageSegmentationFloodZones/Mask/8.png', '/home/shiva/data/ImageSegmentationFloodZones/Mask/1012.png', '/home/shiva/data/ImageSegmentationFloodZones/Mask/1045.png', '/home/shiva/data/ImageSegmentationFloodZones/Mask/2013.png', '/home/shiva/data/ImageSegmentationFloodZones/Mask/3014.png', '/home/shiva/data/ImageSegmentationFloodZones/Mask/1058.png', '/home/shiva/data/ImageSegmentationFloodZones/Mask/13.png', '/home/shiva/data/ImageSegmentationFloodZones/Mask/1084.png', '/home/shiva/data/ImageSegmentationFloodZones/Mask/3009.png', '/home/shiva/data/ImageSegmentationFloodZones/Mask/1061.png', '/home/shiva/data/ImageSegmentationFloodZones/Mask/1019.png', '/home/shiva/data/ImageSegmentationFloodZones/Mask/1047.png', '/home/shiva/data/ImageSegmentationFloodZones/Mask/3027.png', '/home/shiva/data/ImageSegmentationFloodZones/Mask/1002.png', '/home/shiva/data/ImageSegmentationFloodZones/Mask/3057.png', '/home/shiva/data/ImageSegmentationFloodZones/Mask/3046.png', '/home/shiva/data/ImageSegmentationFloodZones/Mask/3024.png', '/home/shiva/data/ImageSegmentationFloodZones/Mask/3079.png', '/home/shiva/data/ImageSegmentationFloodZones/Mask/3049.png', '/home/shiva/data/ImageSegmentationFloodZones/Mask/31.png', '/home/shiva/data/ImageSegmentationFloodZones/Mask/3015.png', '/home/shiva/data/ImageSegmentationFloodZones/Mask/1076.png', '/home/shiva/data/ImageSegmentationFloodZones/Mask/3039.png', '/home/shiva/data/ImageSegmentationFloodZones/Mask/2027.png', '/home/shiva/data/ImageSegmentationFloodZones/Mask/1086.png', '/home/shiva/data/ImageSegmentationFloodZones/Mask/23.png', '/home/shiva/data/ImageSegmentationFloodZones/Mask/3061.png', '/home/shiva/data/ImageSegmentationFloodZones/Mask/1073.png', '/home/shiva/data/ImageSegmentationFloodZones/Mask/2.png', '/home/shiva/data/ImageSegmentationFloodZones/Mask/3002.png', '/home/shiva/data/ImageSegmentationFloodZones/Mask/1030.png', '/home/shiva/data/ImageSegmentationFloodZones/Mask/3092.png', '/home/shiva/data/ImageSegmentationFloodZones/Mask/32.png', '/home/shiva/data/ImageSegmentationFloodZones/Mask/3043.png', '/home/shiva/data/ImageSegmentationFloodZones/Mask/21.png', '/home/shiva/data/ImageSegmentationFloodZones/Mask/3019.png', '/home/shiva/data/ImageSegmentationFloodZones/Mask/1059.png', '/home/shiva/data/ImageSegmentationFloodZones/Mask/1068.png', '/home/shiva/data/ImageSegmentationFloodZones/Mask/3075.png', '/home/shiva/data/ImageSegmentationFloodZones/Mask/3010.png', '/home/shiva/data/ImageSegmentationFloodZones/Mask/1065.png', '/home/shiva/data/ImageSegmentationFloodZones/Mask/2050.png', '/home/shiva/data/ImageSegmentationFloodZones/Mask/3096.png', '/home/shiva/data/ImageSegmentationFloodZones/Mask/7.png', '/home/shiva/data/ImageSegmentationFloodZones/Mask/2048.png', '/home/shiva/data/ImageSegmentationFloodZones/Mask/1078.png', '/home/shiva/data/ImageSegmentationFloodZones/Mask/1081.png', '/home/shiva/data/ImageSegmentationFloodZones/Mask/2010.png', '/home/shiva/data/ImageSegmentationFloodZones/Mask/3030.png', '/home/shiva/data/ImageSegmentationFloodZones/Mask/1021.png', '/home/shiva/data/ImageSegmentationFloodZones/Mask/1082.png', '/home/shiva/data/ImageSegmentationFloodZones/Mask/3021.png', '/home/shiva/data/ImageSegmentationFloodZones/Mask/1031.png', '/home/shiva/data/ImageSegmentationFloodZones/Mask/1049.png', '/home/shiva/data/ImageSegmentationFloodZones/Mask/3094.png', '/home/shiva/data/ImageSegmentationFloodZones/Mask/3007.png', '/home/shiva/data/ImageSegmentationFloodZones/Mask/3063.png', '/home/shiva/data/ImageSegmentationFloodZones/Mask/3028.png', '/home/shiva/data/ImageSegmentationFloodZones/Mask/3088.png', '/home/shiva/data/ImageSegmentationFloodZones/Mask/3060.png', '/home/shiva/data/ImageSegmentationFloodZones/Mask/3055.png', '/home/shiva/data/ImageSegmentationFloodZones/Mask/1052.png', '/home/shiva/data/ImageSegmentationFloodZones/Mask/1004.png', '/home/shiva/data/ImageSegmentationFloodZones/Mask/1006.png', '/home/shiva/data/ImageSegmentationFloodZones/Mask/3062.png', '/home/shiva/data/ImageSegmentationFloodZones/Mask/24.png', '/home/shiva/data/ImageSegmentationFloodZones/Mask/2051.png', '/home/shiva/data/ImageSegmentationFloodZones/Mask/2014.png', '/home/shiva/data/ImageSegmentationFloodZones/Mask/1001.png', '/home/shiva/data/ImageSegmentationFloodZones/Mask/3076.png', '/home/shiva/data/ImageSegmentationFloodZones/Mask/3089.png', '/home/shiva/data/ImageSegmentationFloodZones/Mask/3058.png', '/home/shiva/data/ImageSegmentationFloodZones/Mask/3071.png', '/home/shiva/data/ImageSegmentationFloodZones/Mask/3006.png', '/home/shiva/data/ImageSegmentationFloodZones/Mask/1022.png', '/home/shiva/data/ImageSegmentationFloodZones/Mask/2028.png', '/home/shiva/data/ImageSegmentationFloodZones/Mask/1029.png', '/home/shiva/data/ImageSegmentationFloodZones/Mask/1013.png', '/home/shiva/data/ImageSegmentationFloodZones/Mask/1016.png', '/home/shiva/data/ImageSegmentationFloodZones/Mask/11.png', '/home/shiva/data/ImageSegmentationFloodZones/Mask/3045.png', '/home/shiva/data/ImageSegmentationFloodZones/Mask/1066.png', '/home/shiva/data/ImageSegmentationFloodZones/Mask/3041.png', '/home/shiva/data/ImageSegmentationFloodZones/Mask/3082.png', '/home/shiva/data/ImageSegmentationFloodZones/Mask/3064.png', '/home/shiva/data/ImageSegmentationFloodZones/Mask/3038.png', '/home/shiva/data/ImageSegmentationFloodZones/Mask/2003.png', '/home/shiva/data/ImageSegmentationFloodZones/Mask/1005.png', '/home/shiva/data/ImageSegmentationFloodZones/Mask/1027.png', '/home/shiva/data/ImageSegmentationFloodZones/Mask/1003.png', '/home/shiva/data/ImageSegmentationFloodZones/Mask/41.png', '/home/shiva/data/ImageSegmentationFloodZones/Mask/3037.png', '/home/shiva/data/ImageSegmentationFloodZones/Mask/1069.png', '/home/shiva/data/ImageSegmentationFloodZones/Mask/3017.png', '/home/shiva/data/ImageSegmentationFloodZones/Mask/3034.png', '/home/shiva/data/ImageSegmentationFloodZones/Mask/3050.png', '/home/shiva/data/ImageSegmentationFloodZones/Mask/1063.png', '/home/shiva/data/ImageSegmentationFloodZones/Mask/3036.png', '/home/shiva/data/ImageSegmentationFloodZones/Mask/1034.png', '/home/shiva/data/ImageSegmentationFloodZones/Mask/5.png', '/home/shiva/data/ImageSegmentationFloodZones/Mask/3054.png', '/home/shiva/data/ImageSegmentationFloodZones/Mask/1056.png', '/home/shiva/data/ImageSegmentationFloodZones/Mask/3087.png', '/home/shiva/data/ImageSegmentationFloodZones/Mask/25.png', '/home/shiva/data/ImageSegmentationFloodZones/Mask/3085.png', '/home/shiva/data/ImageSegmentationFloodZones/Mask/3029.png', '/home/shiva/data/ImageSegmentationFloodZones/Mask/2045.png', '/home/shiva/data/ImageSegmentationFloodZones/Mask/1010.png', '/home/shiva/data/ImageSegmentationFloodZones/Mask/1054.png', '/home/shiva/data/ImageSegmentationFloodZones/Mask/1075.png', '/home/shiva/data/ImageSegmentationFloodZones/Mask/2031.png', '/home/shiva/data/ImageSegmentationFloodZones/Mask/3069.png', '/home/shiva/data/ImageSegmentationFloodZones/Mask/2036.png', '/home/shiva/data/ImageSegmentationFloodZones/Mask/2021.png', '/home/shiva/data/ImageSegmentationFloodZones/Mask/26.png', '/home/shiva/data/ImageSegmentationFloodZones/Mask/15.png', '/home/shiva/data/ImageSegmentationFloodZones/Mask/3052.png', '/home/shiva/data/ImageSegmentationFloodZones/Mask/3033.png', '/home/shiva/data/ImageSegmentationFloodZones/Mask/3026.png', '/home/shiva/data/ImageSegmentationFloodZones/Mask/1051.png', '/home/shiva/data/ImageSegmentationFloodZones/Mask/3086.png', '/home/shiva/data/ImageSegmentationFloodZones/Mask/3065.png', '/home/shiva/data/ImageSegmentationFloodZones/Mask/3011.png', '/home/shiva/data/ImageSegmentationFloodZones/Mask/3000.png', '/home/shiva/data/ImageSegmentationFloodZones/Mask/3059.png', '/home/shiva/data/ImageSegmentationFloodZones/Mask/3004.png', '/home/shiva/data/ImageSegmentationFloodZones/Mask/1060.png', '/home/shiva/data/ImageSegmentationFloodZones/Mask/3072.png', '/home/shiva/data/ImageSegmentationFloodZones/Mask/2029.png', '/home/shiva/data/ImageSegmentationFloodZones/Mask/1035.png', '/home/shiva/data/ImageSegmentationFloodZones/Mask/2032.png', '/home/shiva/data/ImageSegmentationFloodZones/Mask/3090.png', '/home/shiva/data/ImageSegmentationFloodZones/Mask/3077.png', '/home/shiva/data/ImageSegmentationFloodZones/Mask/1025.png', '/home/shiva/data/ImageSegmentationFloodZones/Mask/1026.png', '/home/shiva/data/ImageSegmentationFloodZones/Mask/3097.png', '/home/shiva/data/ImageSegmentationFloodZones/Mask/2002.png', '/home/shiva/data/ImageSegmentationFloodZones/Mask/49.png', '/home/shiva/data/ImageSegmentationFloodZones/Mask/1053.png', '/home/shiva/data/ImageSegmentationFloodZones/Mask/1080.png', '/home/shiva/data/ImageSegmentationFloodZones/Mask/1033.png', '/home/shiva/data/ImageSegmentationFloodZones/Mask/2007.png']\n"
     ]
    }
   ],
   "source": [
    "root_directory = '/home/shiva/data/ImageSegmentationFloodZones/'\n",
    "image_directory = os.path.join(root_directory, 'Image')\n",
    "mask_directory = os.path.join(root_directory, 'Mask')\n",
    "image_paths = glob.glob(image_directory + '/*.jpg')\n",
    "mask_paths = glob.glob(mask_directory + '/*.png')\n",
    "print(image_paths)\n",
    "print(mask_paths)"
   ]
  },
  {
   "cell_type": "code",
   "execution_count": 4,
   "metadata": {},
   "outputs": [],
   "source": [
    "im_transform = T.Compose([\n",
    "    T.ToTensor(),\n",
    "    T.Resize((256, 256)),\n",
    "])\n",
    "\n",
    "msk_transform = T.Compose([\n",
    "    T.ToTensor(),\n",
    "    T.Resize((53, 53)),\n",
    "])\n",
    "\n",
    "def to_image(inp):\n",
    "    if inp.ndim == 3:\n",
    "        out = inp.numpy()\n",
    "        out = np.transpose(out, (1, 2, 0))\n",
    "    else:\n",
    "        out = inp.numpy()\n",
    "        out = np.transpose(out, (0, 2, 3, 1))\n",
    "    return out"
   ]
  },
  {
   "cell_type": "code",
   "execution_count": 5,
   "metadata": {},
   "outputs": [],
   "source": [
    "class FloodZoneDataset(data.Dataset):\n",
    "    def __init__(self, root_directory, im_transform=im_transform, msk_transform=msk_transform):\n",
    "        self.image_directory = os.path.join(root_directory, 'Image')\n",
    "        self.mask_directory = os.path.join(root_directory, 'Mask')\n",
    "        self.im_transform = im_transform\n",
    "        self.msk_transform = msk_transform\n",
    "        self.image_paths = sorted(glob.glob(os.path.join(self.image_directory, '*.jpg')))\n",
    "        self.mask_paths = sorted(glob.glob(os.path.join(self.mask_directory, '*.png')))\n",
    "    \n",
    "    def __getitem__(self, idx):\n",
    "        image_path = self.image_paths[idx]\n",
    "        mask_path = self.mask_paths[idx]\n",
    "        image = cv.imread(image_path)\n",
    "        image = cv.cvtColor(image, cv.COLOR_BGR2RGB)\n",
    "        mask = cv.imread(mask_path, cv.IMREAD_GRAYSCALE)\n",
    "        image = self.im_transform(image)\n",
    "        mask = self.msk_transform(mask)\n",
    "        return image, 1.0 - mask\n",
    "    \n",
    "    def __len__(self):\n",
    "        return len(self.image_paths)"
   ]
  },
  {
   "cell_type": "code",
   "execution_count": 6,
   "metadata": {},
   "outputs": [
    {
     "name": "stdout",
     "output_type": "stream",
     "text": [
      "torch.Size([4, 3, 256, 256]) torch.Size([4, 1, 53, 53])\n"
     ]
    }
   ],
   "source": [
    "dataset = FloodZoneDataset(root_directory)\n",
    "dataloader = data.DataLoader(dataset, batch_size=4, shuffle=True, drop_last=True)\n",
    "\n",
    "X, y = next(iter(dataloader))\n",
    "print(X.shape, y.shape)"
   ]
  },
  {
   "cell_type": "code",
   "execution_count": 7,
   "metadata": {},
   "outputs": [],
   "source": [
    "class MixtureOfExpertsDecoder(nn.Module):\n",
    "    def __init__(self):\n",
    "        super().__init__()\n",
    "\n",
    "    def forward(self, X):\n",
    "        pass"
   ]
  },
  {
   "cell_type": "code",
   "execution_count": 8,
   "metadata": {},
   "outputs": [
    {
     "name": "stdout",
     "output_type": "stream",
     "text": [
      "2.4319140911102295\n",
      "torch.Size([4, 96, 53, 53])\n",
      "tensor(0., grad_fn=<MinBackward1>) tensor(1., grad_fn=<MaxBackward1>)\n",
      "2.305164337158203\n",
      "torch.Size([4, 96, 53, 53])\n",
      "tensor(0., grad_fn=<MinBackward1>) tensor(1., grad_fn=<MaxBackward1>)\n"
     ]
    }
   ],
   "source": [
    "test_encoder = MixtureOfExpertsEncoder.MixtureOfExpertsSegmentationEncoder()\n",
    "ctrl_encoder = Traditional2dSegmenter.ControlSegmentationModel()\n",
    "start = time.time()\n",
    "out = ctrl_encoder(X)\n",
    "print(time.time() - start)\n",
    "print(out.shape)\n",
    "print(out.min(), out.max())\n",
    "\n",
    "start = time.time()\n",
    "out = test_encoder(X)\n",
    "print(time.time() - start)\n",
    "print(out.shape)\n",
    "print(out.min(), out.max())"
   ]
  },
  {
   "cell_type": "code",
   "execution_count": null,
   "metadata": {},
   "outputs": [],
   "source": []
  }
 ],
 "metadata": {
  "kernelspec": {
   "display_name": "base",
   "language": "python",
   "name": "python3"
  },
  "language_info": {
   "codemirror_mode": {
    "name": "ipython",
    "version": 3
   },
   "file_extension": ".py",
   "mimetype": "text/x-python",
   "name": "python",
   "nbconvert_exporter": "python",
   "pygments_lexer": "ipython3",
   "version": "3.12.2"
  }
 },
 "nbformat": 4,
 "nbformat_minor": 2
}
